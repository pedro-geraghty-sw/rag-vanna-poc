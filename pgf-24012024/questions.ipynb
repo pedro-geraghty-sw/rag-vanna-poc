{
 "cells": [
  {
   "cell_type": "code",
   "execution_count": 17,
   "metadata": {},
   "outputs": [],
   "source": [
    "import vanna\n",
    "from vanna.remote import VannaDefault\n",
    "import psycopg2\n",
    "from dotenv import load_dotenv\n",
    "import os"
   ]
  },
  {
   "cell_type": "markdown",
   "metadata": {},
   "source": [
    "# Setup"
   ]
  },
  {
   "cell_type": "code",
   "execution_count": 18,
   "metadata": {},
   "outputs": [],
   "source": [
    "load_dotenv('.env', override=True)\n",
    "VANNA_KEY = os.getenv('VANNA_KEY')\n",
    "VANNA_MODEL_NAME = os.getenv('VANNA_MODEL_NAME')\n",
    "DB_SERVER = os.getenv('DB_SERVER')\n",
    "DB_NAME = os.getenv('DB_NAME')\n",
    "DB_USER = os.getenv('DB_USER')\n",
    "DB_PASSWORD = os.getenv('DB_PASSWORD')\n",
    "DB_PORT = os.getenv('DB_PORT')"
   ]
  },
  {
   "cell_type": "markdown",
   "metadata": {},
   "source": [
    "# Set Model"
   ]
  },
  {
   "cell_type": "code",
   "execution_count": 19,
   "metadata": {},
   "outputs": [],
   "source": [
    "vanna_model_name = VANNA_MODEL_NAME\n",
    "vn = VannaDefault(model=vanna_model_name, api_key=VANNA_KEY)"
   ]
  },
  {
   "cell_type": "markdown",
   "metadata": {},
   "source": [
    "# Connect to the Database"
   ]
  },
  {
   "cell_type": "code",
   "execution_count": 20,
   "metadata": {},
   "outputs": [],
   "source": [
    "vn.connect_to_postgres(DB_SERVER,DB_NAME,DB_USER,DB_PASSWORD,DB_PORT)"
   ]
  },
  {
   "cell_type": "markdown",
   "metadata": {},
   "source": [
    "# Questions"
   ]
  },
  {
   "cell_type": "code",
   "execution_count": 88,
   "metadata": {},
   "outputs": [
    {
     "name": "stdout",
     "output_type": "stream",
     "text": [
      "\n",
      "--------------------------------\n",
      "\n",
      "[QUESTION]: What it the total amount of people by region? \n",
      "\n",
      "[QUERY]:\n",
      "None\n",
      "\n",
      "--------------------------------\n",
      "\n",
      "[QUESTION]: Group the amount of people each business entity have \n",
      "\n",
      "[QUERY]:\n",
      "None\n",
      "\n",
      "--------------------------------\n",
      "\n",
      "[QUESTION]: How much work orders are? \n",
      "\n",
      "[QUERY]:\n",
      "None\n",
      "\n",
      "--------------------------------\n",
      "\n",
      "[QUESTION]: Which is the product most ordered?Give me the total amount of products by category \n",
      "\n",
      "[QUERY]:\n",
      "None\n",
      "\n",
      "--------------------------------\n",
      "\n",
      "[QUESTION]: What is the total amount from sales? \n",
      "\n",
      "[QUERY]:\n",
      "None\n",
      "\n",
      "--------------------------------\n",
      "\n",
      "[QUESTION]: What is the total profit? \n",
      "\n",
      "[QUERY]:\n",
      "None\n",
      "\n",
      "--------------------------------\n",
      "\n",
      "[QUESTION]: Which is the product that most changed his cost over the past? \n",
      "\n",
      "[QUERY]:\n",
      "None\n",
      "\n",
      "--------------------------------\n",
      "\n",
      "[QUESTION]: How much product were sold for each category?What is the total cost amount of all the products? \n",
      "\n",
      "[QUERY]:\n",
      "None\n",
      "\n",
      "--------------------------------\n",
      "\n",
      "[QUESTION]: What is the average sales per customers? \n",
      "\n",
      "[QUERY]:\n",
      "None\n",
      "\n",
      "--------------------------------\n",
      "\n",
      "[QUESTION]: What is the number of products in each category? \n",
      "\n",
      "[QUERY]:\n",
      "None\n",
      "\n",
      "--------------------------------\n",
      "\n",
      "[QUESTION]: Top 10 Customers with the highest purchase \n",
      "\n",
      "[QUERY]:\n"
     ]
    },
    {
     "ename": "ValidationError",
     "evalue": "column po.totaldue does not exist\nLINE 1: ...firstname, ' ', p.lastname) AS customer_name, SUM(po.totaldu...\n                                                             ^\n",
     "output_type": "error",
     "traceback": [
      "\u001b[1;31m---------------------------------------------------------------------------\u001b[0m",
      "\u001b[1;31mUndefinedColumn\u001b[0m                           Traceback (most recent call last)",
      "File \u001b[1;32m~\\AppData\\Local\\Packages\\PythonSoftwareFoundation.Python.3.11_qbz5n2kfra8p0\\LocalCache\\local-packages\\Python311\\site-packages\\vanna\\base\\base.py:368\u001b[0m, in \u001b[0;36mVannaBase.connect_to_postgres.<locals>.run_sql_postgres\u001b[1;34m(sql)\u001b[0m\n\u001b[0;32m    367\u001b[0m cs \u001b[38;5;241m=\u001b[39m conn\u001b[38;5;241m.\u001b[39mcursor()\n\u001b[1;32m--> 368\u001b[0m \u001b[43mcs\u001b[49m\u001b[38;5;241;43m.\u001b[39;49m\u001b[43mexecute\u001b[49m\u001b[43m(\u001b[49m\u001b[43msql\u001b[49m\u001b[43m)\u001b[49m\n\u001b[0;32m    369\u001b[0m results \u001b[38;5;241m=\u001b[39m cs\u001b[38;5;241m.\u001b[39mfetchall()\n",
      "\u001b[1;31mUndefinedColumn\u001b[0m: column po.totaldue does not exist\nLINE 1: ...firstname, ' ', p.lastname) AS customer_name, SUM(po.totaldu...\n                                                             ^\n",
      "\nDuring handling of the above exception, another exception occurred:\n",
      "\u001b[1;31mValidationError\u001b[0m                           Traceback (most recent call last)",
      "Cell \u001b[1;32mIn[88], line 29\u001b[0m\n\u001b[0;32m     27\u001b[0m     \u001b[38;5;66;03m# query = vn.generate_sql(questions[i])\u001b[39;00m\n\u001b[0;32m     28\u001b[0m     \u001b[38;5;28mprint\u001b[39m(\u001b[38;5;124mf\u001b[39m\u001b[38;5;124m'\u001b[39m\u001b[38;5;124m[QUERY]:\u001b[39m\u001b[38;5;124m'\u001b[39m)\n\u001b[1;32m---> 29\u001b[0m     sql_result \u001b[38;5;241m=\u001b[39m \u001b[43mvn\u001b[49m\u001b[38;5;241;43m.\u001b[39;49m\u001b[43mask\u001b[49m\u001b[43m(\u001b[49m\u001b[43mquestions\u001b[49m\u001b[43m[\u001b[49m\u001b[43mi\u001b[49m\u001b[43m]\u001b[49m\u001b[43m,\u001b[49m\u001b[38;5;28;43;01mFalse\u001b[39;49;00m\u001b[43m)\u001b[49m\n\u001b[0;32m     30\u001b[0m     \u001b[38;5;28mprint\u001b[39m(sql_result)\n\u001b[0;32m     31\u001b[0m \u001b[38;5;28;01mexcept\u001b[39;00m \u001b[38;5;167;01mException\u001b[39;00m \u001b[38;5;28;01mas\u001b[39;00m e:\n",
      "File \u001b[1;32m~\\AppData\\Local\\Packages\\PythonSoftwareFoundation.Python.3.11_qbz5n2kfra8p0\\LocalCache\\local-packages\\Python311\\site-packages\\vanna\\base\\base.py:525\u001b[0m, in \u001b[0;36mVannaBase.ask\u001b[1;34m(self, question, print_results, auto_train)\u001b[0m\n\u001b[0;32m    522\u001b[0m     \u001b[38;5;28;01melse\u001b[39;00m:\n\u001b[0;32m    523\u001b[0m         \u001b[38;5;28;01mreturn\u001b[39;00m sql, \u001b[38;5;28;01mNone\u001b[39;00m, \u001b[38;5;28;01mNone\u001b[39;00m\n\u001b[1;32m--> 525\u001b[0m df \u001b[38;5;241m=\u001b[39m \u001b[38;5;28;43mself\u001b[39;49m\u001b[38;5;241;43m.\u001b[39;49m\u001b[43mrun_sql\u001b[49m\u001b[43m(\u001b[49m\u001b[43msql\u001b[49m\u001b[43m)\u001b[49m\n\u001b[0;32m    527\u001b[0m \u001b[38;5;28;01mif\u001b[39;00m print_results:\n\u001b[0;32m    528\u001b[0m     \u001b[38;5;28;01mtry\u001b[39;00m:\n",
      "File \u001b[1;32m~\\AppData\\Local\\Packages\\PythonSoftwareFoundation.Python.3.11_qbz5n2kfra8p0\\LocalCache\\local-packages\\Python311\\site-packages\\vanna\\base\\base.py:379\u001b[0m, in \u001b[0;36mVannaBase.connect_to_postgres.<locals>.run_sql_postgres\u001b[1;34m(sql)\u001b[0m\n\u001b[0;32m    377\u001b[0m \u001b[38;5;28;01mexcept\u001b[39;00m psycopg2\u001b[38;5;241m.\u001b[39mError \u001b[38;5;28;01mas\u001b[39;00m e:\n\u001b[0;32m    378\u001b[0m     conn\u001b[38;5;241m.\u001b[39mrollback()\n\u001b[1;32m--> 379\u001b[0m     \u001b[38;5;28;01mraise\u001b[39;00m ValidationError(e)\n",
      "\u001b[1;31mValidationError\u001b[0m: column po.totaldue does not exist\nLINE 1: ...firstname, ' ', p.lastname) AS customer_name, SUM(po.totaldu...\n                                                             ^\n"
     ]
    }
   ],
   "source": [
    "questions = [\n",
    "    \"What it the total amount of people by region?\", # SUCCESS\n",
    "    \"Group the amount of people each business entity have\", # SUCCESS\n",
    "    \"How much work orders are?\", # SUCCESS\n",
    "    \"Which is the product most ordered?\" # SUCCESS, but first missed error on postgres sintaxis, \n",
    "    \"Give me the total amount of products by category\", # SUCCESS,but first missed schema on join\n",
    "    \"What is the total amount from sales?\", # SUCESS,but first missed schema and wrong tables\n",
    "    \"What is the total profit?\", # Wrong, first missed schema and wrong tables and then succeed on choosing the correct schema and table but missed the column and the algebraic was wrong\n",
    "    \"Which is the product that most changed his cost over the past?\", # WRONG, the result is not accurate but the table used is correct\n",
    "    \"How much product were sold for each category?\" # SUCCED,but first the schema was correct but the table useded was not exist,\n",
    "    \"What is the total cost amount of all the products?\", # SUCCEED, but first missed schema and wrong tables\n",
    "    \"What is the average sales per customers?\", # SUCCEED, but first missed schema and wrong tables\n",
    "    \"What is the number of products in each category?\", # SUCCEED, but first missed schema and wrong tables\n",
    "    \"Top 10 Customers with the highest purchase\", # WRONG, first missed schema and wrong tables\n",
    "    \"Top 10 Employees with the highest sale\", # SUCCEED, but first missed schema and wrong tables\n",
    "    \"Top 10 most sale products\", # SUCCESS, but first missed schema and wrong tables\n",
    "    \"Top 10 Employees with the highest sale\", # SUCCED, but first missed schema and wrong tables\n",
    "    # \"and what are their middlenames?\",\n",
    "    # \"and where they live?\",\n",
    "    # \"and what are their emails?\",\n",
    "    # \"Rank customers by sales\",\n",
    "    ]\n",
    "for i in range(len(questions)):\n",
    "    try:\n",
    "        print('\\n--------------------------------\\n')\n",
    "        print(f'[QUESTION]: {questions[i]} \\n')\n",
    "        # query = vn.generate_sql(questions[i])\n",
    "        print(f'[QUERY]:')\n",
    "        vn.ask(questions[i])\n",
    "    except Exception as e:\n",
    "        print(e.args)\n",
    "\n"
   ]
  }
 ],
 "metadata": {
  "kernelspec": {
   "display_name": "Python 3",
   "language": "python",
   "name": "python3"
  },
  "language_info": {
   "codemirror_mode": {
    "name": "ipython",
    "version": 3
   },
   "file_extension": ".py",
   "mimetype": "text/x-python",
   "name": "python",
   "nbconvert_exporter": "python",
   "pygments_lexer": "ipython3",
   "version": "3.11.7"
  }
 },
 "nbformat": 4,
 "nbformat_minor": 2
}
