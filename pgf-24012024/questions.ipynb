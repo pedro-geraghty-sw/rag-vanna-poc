{
 "cells": [
  {
   "cell_type": "code",
   "execution_count": 17,
   "metadata": {},
   "outputs": [],
   "source": [
    "import vanna\n",
    "from vanna.remote import VannaDefault\n",
    "import psycopg2\n",
    "from dotenv import load_dotenv\n",
    "import os"
   ]
  },
  {
   "cell_type": "markdown",
   "metadata": {},
   "source": [
    "# Setup"
   ]
  },
  {
   "cell_type": "code",
   "execution_count": 18,
   "metadata": {},
   "outputs": [],
   "source": [
    "load_dotenv('.env', override=True)\n",
    "VANNA_KEY = os.getenv('VANNA_KEY')\n",
    "VANNA_MODEL_NAME = os.getenv('VANNA_MODEL_NAME')\n",
    "DB_SERVER = os.getenv('DB_SERVER')\n",
    "DB_NAME = os.getenv('DB_NAME')\n",
    "DB_USER = os.getenv('DB_USER')\n",
    "DB_PASSWORD = os.getenv('DB_PASSWORD')\n",
    "DB_PORT = os.getenv('DB_PORT')"
   ]
  },
  {
   "cell_type": "markdown",
   "metadata": {},
   "source": [
    "# Set Model"
   ]
  },
  {
   "cell_type": "code",
   "execution_count": 19,
   "metadata": {},
   "outputs": [],
   "source": [
    "vanna_model_name = VANNA_MODEL_NAME\n",
    "vn = VannaDefault(model=vanna_model_name, api_key=VANNA_KEY)"
   ]
  },
  {
   "cell_type": "markdown",
   "metadata": {},
   "source": [
    "# Connect to the Database"
   ]
  },
  {
   "cell_type": "code",
   "execution_count": 20,
   "metadata": {},
   "outputs": [],
   "source": [
    "vn.connect_to_postgres(DB_SERVER,DB_NAME,DB_USER,DB_PASSWORD,DB_PORT)"
   ]
  },
  {
   "cell_type": "markdown",
   "metadata": {},
   "source": [
    "# Questions"
   ]
  },
  {
   "cell_type": "code",
   "execution_count": 87,
   "metadata": {},
   "outputs": [
    {
     "name": "stdout",
     "output_type": "stream",
     "text": [
      "\n",
      "--------------------------------\n",
      "\n",
      "[QUESTION]: What it the total amount of people by region? \n",
      "\n",
      "[QUERY]:\n",
      "None\n"
     ]
    }
   ],
   "source": [
    "questions = [\n",
    "    \"What it the total amount of people by region?\", # SUCCESS\n",
    "    # \"Group the amount of people each business entity have\", # SUCCESS\n",
    "    # \"How much work orders are?\", # SUCCESS\n",
    "    # \"Which is the product most ordered?\" # SUCCESS, but first missed error on postgres sintaxis, \n",
    "    # \"Give me the total amount of products by category\", # SUCCESS,but first missed schema on join\n",
    "    # \"What is the total amount from sales?\", # SUCESS,but first missed schema and wrong tables\n",
    "    # \"What is the total profit?\", # Wrong, first missed schema and wrong tables and then succeed on choosing the correct schema and table but missed the column and the algebraic was wrong\n",
    "    # \"Which is the product that most changed his cost over the past?\", # WRONG, the result is not accurate but the table used is correct\n",
    "    # \"How much product were sold for each category?\" # SUCCED,but first the schema was correct but the table useded was not exist,\n",
    "    # \"What is the total cost amount of all the products?\", # SUCCEED, but first missed schema and wrong tables\n",
    "    # \"What is the average sales per customers?\", # SUCCEED, but first missed schema and wrong tables\n",
    "    # \"What is the number of products in each category?\", # SUCCEED, but first missed schema and wrong tables\n",
    "    # \"Top 10 Customers with the highest purchase\", # WRONG, first missed schema and wrong tables\n",
    "    # \"Top 10 Employees with the highest sale\", # SUCCEED, but first missed schema and wrong tables\n",
    "    # \"Top 10 most sale products\", # SUCCESS, but first missed schema and wrong tables\n",
    "    # \"Top 10 Employees with the highest sale\", # SUCCED, but first missed schema and wrong tables\n",
    "    # \"and what are their middlenames?\",\n",
    "    # \"and where they live?\",\n",
    "    # \"and what are their emails?\",\n",
    "    # \"Rank customers by sales\",\n",
    "    ]\n",
    "for i in range(len(questions)):\n",
    "    try:\n",
    "        print('\\n--------------------------------\\n')\n",
    "        print(f'[QUESTION]: {questions[i]} \\n')\n",
    "        # query = vn.generate_sql(questions[i])\n",
    "        print(f'[QUERY]:')\n",
    "        sql_result = vn.ask(questions[i],False)\n",
    "        print(sql_result)\n",
    "    except Exception as e:\n",
    "        print(e.args)\n",
    "\n"
   ]
  }
 ],
 "metadata": {
  "kernelspec": {
   "display_name": "Python 3",
   "language": "python",
   "name": "python3"
  },
  "language_info": {
   "codemirror_mode": {
    "name": "ipython",
    "version": 3
   },
   "file_extension": ".py",
   "mimetype": "text/x-python",
   "name": "python",
   "nbconvert_exporter": "python",
   "pygments_lexer": "ipython3",
   "version": "3.11.7"
  }
 },
 "nbformat": 4,
 "nbformat_minor": 2
}
